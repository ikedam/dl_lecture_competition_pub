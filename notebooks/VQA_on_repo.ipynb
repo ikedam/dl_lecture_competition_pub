{
  "nbformat": 4,
  "nbformat_minor": 0,
  "metadata": {
    "colab": {
      "provenance": [],
      "gpuType": "T4"
    },
    "kernelspec": {
      "name": "python3",
      "display_name": "Python 3"
    },
    "language_info": {
      "name": "python"
    },
    "accelerator": "GPU"
  },
  "cells": [
    {
      "cell_type": "markdown",
      "source": [
        "# Colab上でVQA-competitionを実行する\n",
        "\n",
        "Google Colab上で [VQA-competition](https://github.com/ailorg/dl_lecture_competition_pub/tree/VQA-competition) を実行するノートブックの例です。\n",
        "\n",
        "* 単に「なんかこうやったらうまくうごいた」という共有なので、ノークレームでお願いします。\n",
        "* 個別のご質問にはお答えしかねます。\n",
        "* 実行時間等については 2024年6月時点の参考値です。時期やコンピューターの気分によって変わると思うので参考程度にしてください。\n",
        "\n",
        "## 前提やら基礎知識やら\n",
        "\n",
        "### Google Colab 関連\n",
        "\n",
        "* Google Colab には VQA-competition で必要になるライブラリー (torch など) が事前にインストールされていますが、予告なくバージョンが変わるので、昨日まで動いてたのに今日は動かない、ということがありえます。それはそういうもので天災みたいなものなのでノークレームでお願いします。\n",
        "    * 現実問題としては、そこまで凝った使い方をしていなければまず動かなくなることはないとは思うので、深刻にリスクとして扱うほどの必要はないとは思う。\n",
        "* クラウド系のサービスは突然画面デザインが変わるのが常なので、ここの説明と画面が一致しない場合があります。その場合はなんとかがんばってください。ノークレームでお願いします。\n",
        "* Google Colab で実際に処理が動くコンピューターのことをランタイムといいます。基本的にランタイムをずっと維持することはできない(と思うけどよく知らん)ので、必要なデータは Google Drive に退避して、毎回最初に Google Drive からデータを復元して使うという運用になります。\n",
        "    * 例えば訓練データセットを毎回 Google Drive からランタイムに展開して使う必要がある。\n",
        "* Google Colab でランタイムを連続で利用できる時間には制限があるため、学習処理を完遂する前にランタイムの期限が切れることがあります。特に Google Colab の無料版だと深刻です。ここは何らかの工夫をする必要がある点に注意してください。\n",
        "    * 何らかの工夫って何よ？と聞かれても私も困っている立場なのでなんとも言えません。むしろ教えて下さい。\n",
        "\n",
        "### Google Drive 関連\n",
        "\n",
        "* Google Drive 上で直接訓練データを展開して Colab からアクセスすると、学習処理が非常に遅くなるという報告があるので注意してください。\n",
        "* このため、このノートブックでは Google Drive には zip ファイルだけおいて、学習前に Google Colab のランタイム上に展開する、という手順を取ります。\n",
        "\n",
        "### GitHub 関連\n",
        "\n",
        "* GitHub からのファイルの取得であれば特に認証の設定は必要ないので、その方法を取ります。\n",
        "    * リポジトリをパブリックにしている場合に限る。ただし今回、パブリックにしないということはないと思う。\n",
        "* 想定運用手順としては、 PC 上でソースコードを編集 → GitHub に保存 → Colab から更新したコードを GitHub から取得 → 実行 のサイクルになります。\n",
        "* Colab から直接 GitHub に保存したい、という方は認証の設定を追加してください。\n",
        "    * 私はやり方を知らない。\n",
        "\n",
        "## 事前の準備\n",
        "\n",
        "### 訓練データ・検証データの準備\n",
        "\n",
        "* [データのダウンロード](https://github.com/ailorg/dl_lecture_competition_pub/blob/VQA-competition/README.md#%E3%83%87%E3%83%BC%E3%82%BF%E3%81%AE%E3%83%80%E3%82%A6%E3%83%B3%E3%83%AD%E3%83%BC%E3%83%89) にあるデータを Colab からアクセスできるようにします。\n",
        "* Colab からは自分の Google Drive にしかアクセスできませんが、このデータを自分の Google Drive にコピーすると容量を圧迫するため、「ショートカットを追加」を行い、自分の Google Drive 経由で直接配布元のファイルにアクセスできるようにします。\n",
        "\n",
        "Colabへのスクショの貼り方が分からないので言葉だけで説明するのでうまく読み取ってください:\n",
        "\n",
        "1. [「こちらから各データをダウンロードしてください．」のリンク](https://drive.google.com/drive/folders/1QTcWMATZ_iGsHnxq6-3aXa7D5VZAzs5T?usp=sharing) を開く\n",
        "2. 「共有アイテム > VQA」の VQA をクリック、整理 > ショートカットを追加 をクリック。\n",
        "3. 「すべての場所」タブの「マイドライブ」を選んで「追加」\n",
        "    * もちろん他の場所でも良い。このへんは趣味で。\n",
        "    * ここではマイドライブ直下に作った前提とします。他の場所に作った方は適宜読み替えてください。\n",
        "4. マイドライブを見ると「VQA」というフォルダーがあって、なんかフォルダーのアイコンに矢印が出ているはず。\n",
        "\n",
        "### 自分の環境に合わせて設定を書き換える\n",
        "\n",
        "1つ下のセルの内容を自分の環境に合わせて書き換えてください。\n",
        "\n"
      ],
      "metadata": {
        "id": "kTZw7O6q9bzZ"
      }
    },
    {
      "cell_type": "code",
      "source": [
        "# ここの URL をご自分がフォークした GitHub リポジトリーの URL に変更してください。(とりあえず動かす分にはこのままでも動くよ)\n",
        "repo = \"https://github.com/ailorg/dl_lecture_competition_pub.git\"\n",
        "branch = \"VQA-competition\"\n",
        "repodir = \"dl_lecture_competition_pub\"\n",
        "# Googleドライブのマイドライブ以下のフォルダー\n",
        "# 「ショートカットの追加」でショートカットを作った場所\n",
        "datadir = \"VQA\"\n",
        "# 処理結果を保存する場所\n",
        "outputdir = \"VQA-output\""
      ],
      "metadata": {
        "id": "mR1lx5a8LrIu"
      },
      "execution_count": 1,
      "outputs": []
    },
    {
      "cell_type": "code",
      "source": [
        "from google.colab import drive\n",
        "drive.mount(\"/content/drive\")"
      ],
      "metadata": {
        "colab": {
          "base_uri": "https://localhost:8080/"
        },
        "id": "Jo35YZukLecK",
        "outputId": "d8a4e346-15a2-4dba-caee-e96a66f92b21"
      },
      "execution_count": 2,
      "outputs": [
        {
          "output_type": "stream",
          "name": "stdout",
          "text": [
            "Mounted at /content/drive\n"
          ]
        }
      ]
    },
    {
      "cell_type": "code",
      "execution_count": 3,
      "metadata": {
        "colab": {
          "base_uri": "https://localhost:8080/"
        },
        "id": "DDfBvzyPK69K",
        "outputId": "c453bf7a-d211-4a4e-8740-de15601bd741"
      },
      "outputs": [
        {
          "output_type": "stream",
          "name": "stdout",
          "text": [
            "Cloning into 'dl_lecture_competition_pub'...\n",
            "remote: Enumerating objects: 55, done.\u001b[K\n",
            "remote: Counting objects: 100% (13/13), done.\u001b[K\n",
            "remote: Compressing objects: 100% (13/13), done.\u001b[K\n",
            "remote: Total 55 (delta 3), reused 0 (delta 0), pack-reused 42\u001b[K\n",
            "Receiving objects: 100% (55/55), 62.46 KiB | 15.61 MiB/s, done.\n",
            "Resolving deltas: 100% (8/8), done.\n",
            "Branch 'VQA-competition' set up to track remote branch 'VQA-competition' from 'origin'.\n",
            "Switched to a new branch 'VQA-competition'\n"
          ]
        }
      ],
      "source": [
        "! [ -d $repodir ] || git clone $repo\n",
        "! cd $repodir && git checkout -B $branch origin/$branch"
      ]
    },
    {
      "cell_type": "code",
      "source": [
        "# 訓練データ・検証データを展開する。\n",
        "# 5分くらいかかります。気長に待ってください。\n",
        "# ちなみに zip ファイルをランタイムにコピーしてから unzip も試してみたけれど特に早くならんかった(むしろ遅くなるように感じた)。\n",
        "! [ -f $repodir/data/train.json ] || cp /content/drive/MyDrive/$datadir/train.json $repodir/data/\n",
        "! [ -f $repodir/data/valid.json ] || cp /content/drive/MyDrive/$datadir/valid.json $repodir/data/\n",
        "# ! [ -f $repodir/data/train.zip ] || cp /content/drive/MyDrive/$datadir/train.zip $repodir/data/\n",
        "# ! [ -f $repodir/data/valid.zip ] || cp /content/drive/MyDrive/$datadir/valid.zip $repodir/data/\n",
        "# ! [ -d $repodir/data/train ] || unzip -q $repodir/data/train.zip -d $repodir/data/\n",
        "# ! [ -d $repodir/data/valid ] || unzip -q $repodir/data/valid.zip -d $repodir/data/\n",
        "! [ -d $repodir/data/train ] || unzip -q /content/drive/MyDrive/$datadir/train.zip -d $repodir/data/\n",
        "! [ -d $repodir/data/valid ] || unzip -q /content/drive/MyDrive/$datadir/valid.zip -d $repodir/data/"
      ],
      "metadata": {
        "id": "SdnmsFvFLZSC"
      },
      "execution_count": 5,
      "outputs": []
    },
    {
      "cell_type": "code",
      "source": [
        "# コードを最新化\n",
        "# コードを更新した場合はここから実行する\n",
        "# ファイルを書き換えている場合、巻き戻るので注意。\n",
        "! cd $repodir && git checkout -f\n",
        "! cd $repodir && git fetch origin $branch && git checkout -B $branch origin/$branch"
      ],
      "metadata": {
        "colab": {
          "base_uri": "https://localhost:8080/"
        },
        "id": "HcYtKGCdG7hx",
        "outputId": "03e5ba37-2ee2-432e-df91-8c179b150364"
      },
      "execution_count": 6,
      "outputs": [
        {
          "output_type": "stream",
          "name": "stdout",
          "text": [
            "Your branch is up to date with 'origin/VQA-competition'.\n",
            "From https://github.com/ailorg/dl_lecture_competition_pub\n",
            " * branch            VQA-competition -> FETCH_HEAD\n",
            "Branch 'VQA-competition' set up to track remote branch 'VQA-competition' from 'origin'.\n",
            "Reset branch 'VQA-competition'\n",
            "Your branch is up to date with 'origin/VQA-competition'.\n"
          ]
        }
      ]
    },
    {
      "cell_type": "code",
      "source": [
        "# 処理を無理やり短時間で終わらせるためのハック\n",
        "# 訓練データ・検証データを一部だけしか使わない。(1000件で1エポック30秒強くらいになる)\n",
        "# 5エポックだけ学習する。\n",
        "# 動作確認時にアンコメントして使う。当たり前だけれど最終的な動作としてはここを動かすと全く意味がないので注意。\n",
        "# ! cd $repodir && git diff\n",
        "# ! sed -i -e 's/len(self.df)/1000/' -e 's/num_epoch = 20/num_epoch = 5/' $repodir/main.py\n",
        "# ! cd $repodir && git diff"
      ],
      "metadata": {
        "colab": {
          "base_uri": "https://localhost:8080/"
        },
        "id": "NCpxjNmwHMFY",
        "outputId": "473d311c-b013-43d9-e3ad-397b36b66776"
      },
      "execution_count": 7,
      "outputs": [
        {
          "output_type": "stream",
          "name": "stdout",
          "text": [
            "\u001b[1mdiff --git a/main.py b/main.py\u001b[m\n",
            "\u001b[1mindex 5c6e5ab..0f6c588 100644\u001b[m\n",
            "\u001b[1m--- a/main.py\u001b[m\n",
            "\u001b[1m+++ b/main.py\u001b[m\n",
            "\u001b[36m@@ -148,7 +148,7 @@\u001b[m \u001b[mclass VQADataset(torch.utils.data.Dataset):\u001b[m\n",
            "             return image, torch.Tensor(question)\u001b[m\n",
            " \u001b[m\n",
            "     def __len__(self):\u001b[m\n",
            "\u001b[31m-        return len(self.df)\u001b[m\n",
            "\u001b[32m+\u001b[m\u001b[32m        return 1000\u001b[m\n",
            " \u001b[m\n",
            " \u001b[m\n",
            " # 2. 評価指標の実装\u001b[m\n",
            "\u001b[36m@@ -378,7 +378,7 @@\u001b[m \u001b[mdef main():\u001b[m\n",
            "     model = VQAModel(vocab_size=len(train_dataset.question2idx)+1, n_answer=len(train_dataset.answer2idx)).to(device)\u001b[m\n",
            " \u001b[m\n",
            "     # optimizer / criterion\u001b[m\n",
            "\u001b[31m-    num_epoch = 20\u001b[m\n",
            "\u001b[32m+\u001b[m\u001b[32m    num_epoch = 5\u001b[m\n",
            "     criterion = nn.CrossEntropyLoss()\u001b[m\n",
            "     optimizer = torch.optim.Adam(model.parameters(), lr=0.001, weight_decay=1e-5)\u001b[m\n",
            " \u001b[m\n"
          ]
        }
      ]
    },
    {
      "cell_type": "code",
      "source": [
        "# 初期の実装で1エポック10分くらいかかります。10分間なんの反応もなくて不安になりますが、そういうものです。\n",
        "!cd $repodir && python3 main.py"
      ],
      "metadata": {
        "colab": {
          "base_uri": "https://localhost:8080/"
        },
        "id": "NJSZ-4PPMstl",
        "outputId": "ede31859-7d01-423a-90ad-373b450f7bb4"
      },
      "execution_count": 8,
      "outputs": [
        {
          "output_type": "stream",
          "name": "stdout",
          "text": [
            "【1/5】\n",
            "train time: 33.41 [s]\n",
            "train loss: 8.2464\n",
            "train acc: 0.4225\n",
            "train simple acc: 0.3440\n",
            "【2/5】\n",
            "train time: 31.33 [s]\n",
            "train loss: 5.1783\n",
            "train acc: 0.4832\n",
            "train simple acc: 0.3947\n",
            "【3/5】\n",
            "train time: 28.44 [s]\n",
            "train loss: 4.3816\n",
            "train acc: 0.4824\n",
            "train simple acc: 0.3933\n",
            "【4/5】\n",
            "train time: 29.08 [s]\n",
            "train loss: 4.1828\n",
            "train acc: 0.4828\n",
            "train simple acc: 0.3947\n",
            "【5/5】\n",
            "train time: 28.69 [s]\n",
            "train loss: 4.0167\n",
            "train acc: 0.4827\n",
            "train simple acc: 0.3940\n"
          ]
        }
      ]
    },
    {
      "cell_type": "code",
      "source": [
        "# 提出用ファイルの保存\n",
        "!cp $repodir/model.pth /content/drive/MyDrive/$outputdir\n",
        "!cp $repodir/submission.npy /content/drive/MyDrive/$outputdir"
      ],
      "metadata": {
        "id": "U-qi69rKIRWM"
      },
      "execution_count": 9,
      "outputs": []
    }
  ]
}
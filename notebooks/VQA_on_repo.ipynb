{
  "nbformat": 4,
  "nbformat_minor": 0,
  "metadata": {
    "colab": {
      "provenance": [],
      "gpuType": "T4"
    },
    "kernelspec": {
      "name": "python3",
      "display_name": "Python 3"
    },
    "language_info": {
      "name": "python"
    },
    "accelerator": "GPU"
  },
  "cells": [
    {
      "cell_type": "markdown",
      "source": [
        "# Colab上でVQA-competitionを実行する\n",
        "\n",
        "Google Colab上で [VQA-competition](https://github.com/ailorg/dl_lecture_competition_pub/tree/VQA-competition) を実行するノートブックの例です。\n",
        "\n",
        "* 単に「なんかこうやったらうまくうごいた」という共有なので、ノークレームでお願いします。\n",
        "* 個別のご質問にはお答えしかねます。\n",
        "* 実行時間等については 2024年6月時点の参考値です。時期やコンピューターの気分によって変わると思うので参考程度にしてください。\n",
        "\n",
        "## 前提やら基礎知識やら\n",
        "\n",
        "### Google Colab 関連\n",
        "\n",
        "* Google Colab には VQA-competition で必要になるライブラリー (torch など) が事前にインストールされていますが、予告なくバージョンが変わるので、昨日まで動いてたのに今日は動かない、ということがありえます。それはそういうもので天災みたいなものなのでノークレームでお願いします。\n",
        "    * 現実問題としては、そこまで凝った使い方をしていなければまず動かなくなることはないとは思うので、深刻にリスクとして扱うほどの必要はないとは思う。\n",
        "* クラウド系のサービスは突然画面デザインが変わるのが常なので、ここの説明と画面が一致しない場合があります。その場合はなんとかがんばってください。ノークレームでお願いします。\n",
        "* Google Colab で実際に処理が動くコンピューターのことをランタイムといいます。基本的にランタイムをずっと維持することはできない(と思うけどよく知らん)ので、必要なデータは Google Drive に退避して、毎回最初に Google Drive からデータを復元して使うという運用になります。\n",
        "    * 例えば訓練データセットを毎回 Google Drive からランタイムに展開して使う必要がある。\n",
        "* Google Colab でランタイムを連続で利用できる時間には制限があるため、学習処理を完遂する前にランタイムの期限が切れることがあります。特に Google Colab の無料版だと深刻です。ここは何らかの工夫をする必要がある点に注意してください。\n",
        "    * 何らかの工夫って何よ？と聞かれても私も困っている立場なのでなんとも言えません。むしろ教えて下さい。\n",
        "\n",
        "### Google Drive 関連\n",
        "\n",
        "* Google Drive 上で直接訓練データを展開して Colab からアクセスすると、学習処理が非常に遅くなるという報告があるので注意してください。\n",
        "* このため、このノートブックでは Google Drive には zip ファイルだけおいて、学習前に Google Colab のランタイム上に展開する、という手順を取ります。\n",
        "\n",
        "### GitHub 関連\n",
        "\n",
        "* GitHub からのファイルの取得であれば特に認証の設定は必要ないので、その方法を取ります。\n",
        "    * リポジトリをパブリックにしている場合に限る。ただし今回、パブリックにしないということはないと思う。\n",
        "* 想定運用手順としては、 PC 上でソースコードを編集 → GitHub に保存 → Colab から更新したコードを GitHub から取得 → 実行 のサイクルになります。\n",
        "* Colab から直接 GitHub に保存したい、という方は認証の設定を追加してください。\n",
        "    * 私はやり方を知らない。\n",
        "\n",
        "## 事前の準備\n",
        "\n",
        "### 訓練データ・検証データの準備\n",
        "\n",
        "* [データのダウンロード](https://github.com/ailorg/dl_lecture_competition_pub/blob/VQA-competition/README.md#%E3%83%87%E3%83%BC%E3%82%BF%E3%81%AE%E3%83%80%E3%82%A6%E3%83%B3%E3%83%AD%E3%83%BC%E3%83%89) にあるデータを Colab からアクセスできるようにします。\n",
        "* Colab からは自分の Google Drive にしかアクセスできませんが、このデータを自分の Google Drive にコピーすると容量を圧迫するため、「ショートカットを追加」を行い、自分の Google Drive 経由で直接配布元のファイルにアクセスできるようにします。\n",
        "\n",
        "Colabへのスクショの貼り方が分からないので言葉だけで説明するのでうまく読み取ってください:\n",
        "\n",
        "1. [「こちらから各データをダウンロードしてください．」のリンク](https://drive.google.com/drive/folders/1QTcWMATZ_iGsHnxq6-3aXa7D5VZAzs5T?usp=sharing) を開く\n",
        "2. 「共有アイテム > VQA」の VQA をクリック、整理 > ショートカットを追加 をクリック。\n",
        "3. 「すべての場所」タブの「マイドライブ」を選んで「追加」\n",
        "    * もちろん他の場所でも良い。このへんは趣味で。\n",
        "    * ここではマイドライブ直下に作った前提とします。他の場所に作った方は適宜読み替えてください。\n",
        "4. マイドライブを見ると「VQA」というフォルダーがあって、なんかフォルダーのアイコンに矢印が出ているはず。\n",
        "\n",
        "### 自分の環境に合わせて設定を書き換える\n",
        "\n",
        "1つ下のセルの内容を自分の環境に合わせて書き換えてください。\n",
        "\n"
      ],
      "metadata": {
        "id": "kTZw7O6q9bzZ"
      }
    },
    {
      "cell_type": "code",
      "source": [
        "# ここの URL をご自分がフォークした GitHub リポジトリーの URL に変更してください。(とりあえず動かす分にはこのままでも動くよ)\n",
        "# repo = \"https://github.com/ailorg/dl_lecture_competition_pub.git\"\n",
        "# branch = \"VQA-competition\"\n",
        "repo = \"https://github.com/ikedam/dl_lecture_competition_pub.git\"\n",
        "branch = \"main\"\n",
        "repodir = \"dl_lecture_competition_pub\"\n",
        "# Googleドライブのマイドライブ以下のフォルダー\n",
        "# 「ショートカットの追加」でショートカットを作った場所\n",
        "datadir = \"VQA\"\n",
        "# 処理結果を保存する場所\n",
        "outputdir = \"VQA-output/2024-07-07_6_lstm_8epoch_T4\""
      ],
      "metadata": {
        "id": "mR1lx5a8LrIu"
      },
      "execution_count": null,
      "outputs": []
    },
    {
      "cell_type": "code",
      "source": [
        "from google.colab import drive\n",
        "drive.mount(\"/content/drive\")"
      ],
      "metadata": {
        "colab": {
          "base_uri": "https://localhost:8080/"
        },
        "id": "Jo35YZukLecK",
        "outputId": "1c90c62f-bb8f-4b73-c89b-c863bd2f8e93"
      },
      "execution_count": null,
      "outputs": [
        {
          "output_type": "stream",
          "name": "stdout",
          "text": [
            "Mounted at /content/drive\n"
          ]
        }
      ]
    },
    {
      "cell_type": "code",
      "execution_count": null,
      "metadata": {
        "colab": {
          "base_uri": "https://localhost:8080/"
        },
        "id": "DDfBvzyPK69K",
        "outputId": "6c2aac0d-8228-4581-ab51-37226adc88ea"
      },
      "outputs": [
        {
          "output_type": "stream",
          "name": "stdout",
          "text": [
            "Cloning into 'dl_lecture_competition_pub'...\n",
            "remote: Enumerating objects: 166, done.\u001b[K\n",
            "remote: Counting objects: 100% (65/65), done.\u001b[K\n",
            "remote: Compressing objects: 100% (38/38), done.\u001b[K\n",
            "remote: Total 166 (delta 37), reused 30 (delta 27), pack-reused 101\u001b[K\n",
            "Receiving objects: 100% (166/166), 112.69 KiB | 5.63 MiB/s, done.\n",
            "Resolving deltas: 100% (78/78), done.\n",
            "Branch 'VQA-competition-ikedam-lstm' set up to track remote branch 'VQA-competition-ikedam-lstm' from 'origin'.\n",
            "Switched to a new branch 'VQA-competition-ikedam-lstm'\n"
          ]
        }
      ],
      "source": [
        "! [ -d $repodir ] || git clone $repo\n",
        "! cd $repodir && git checkout -B $branch origin/$branch"
      ]
    },
    {
      "cell_type": "code",
      "source": [
        "! nvidia-smi"
      ],
      "metadata": {
        "colab": {
          "base_uri": "https://localhost:8080/"
        },
        "id": "52BikoczIsr-",
        "outputId": "f0a1d4ca-06c5-4808-eb7b-493023ccace7"
      },
      "execution_count": null,
      "outputs": [
        {
          "output_type": "stream",
          "name": "stdout",
          "text": [
            "Sun Jul  7 09:32:33 2024       \n",
            "+---------------------------------------------------------------------------------------+\n",
            "| NVIDIA-SMI 535.104.05             Driver Version: 535.104.05   CUDA Version: 12.2     |\n",
            "|-----------------------------------------+----------------------+----------------------+\n",
            "| GPU  Name                 Persistence-M | Bus-Id        Disp.A | Volatile Uncorr. ECC |\n",
            "| Fan  Temp   Perf          Pwr:Usage/Cap |         Memory-Usage | GPU-Util  Compute M. |\n",
            "|                                         |                      |               MIG M. |\n",
            "|=========================================+======================+======================|\n",
            "|   0  Tesla T4                       Off | 00000000:00:04.0 Off |                    0 |\n",
            "| N/A   56C    P8              10W /  70W |      0MiB / 15360MiB |      0%      Default |\n",
            "|                                         |                      |                  N/A |\n",
            "+-----------------------------------------+----------------------+----------------------+\n",
            "                                                                                         \n",
            "+---------------------------------------------------------------------------------------+\n",
            "| Processes:                                                                            |\n",
            "|  GPU   GI   CI        PID   Type   Process name                            GPU Memory |\n",
            "|        ID   ID                                                             Usage      |\n",
            "|=======================================================================================|\n",
            "|  No running processes found                                                           |\n",
            "+---------------------------------------------------------------------------------------+\n"
          ]
        }
      ]
    },
    {
      "cell_type": "code",
      "source": [
        "# 訓練データ・検証データを展開する。\n",
        "# 5分くらいかかります。気長に待ってください。\n",
        "# ちなみに zip ファイルをランタイムにコピーしてから unzip も試してみたけれど特に早くならんかった(むしろ遅くなるように感じた)。\n",
        "! [ -f $repodir/data/train.json ] || cp /content/drive/MyDrive/$datadir/train.json $repodir/data/\n",
        "! [ -f $repodir/data/valid.json ] || cp /content/drive/MyDrive/$datadir/valid.json $repodir/data/\n",
        "# ! [ -f $repodir/data/train.zip ] || cp /content/drive/MyDrive/$datadir/train.zip $repodir/data/\n",
        "# ! [ -f $repodir/data/valid.zip ] || cp /content/drive/MyDrive/$datadir/valid.zip $repodir/data/\n",
        "# ! [ -d $repodir/data/train ] || unzip -q $repodir/data/train.zip -d $repodir/data/\n",
        "# ! [ -d $repodir/data/valid ] || unzip -q $repodir/data/valid.zip -d $repodir/data/\n",
        "! [ -d $repodir/data/train ] || unzip -q /content/drive/MyDrive/$datadir/train.zip -d $repodir/data/\n",
        "! [ -d $repodir/data/valid ] || unzip -q /content/drive/MyDrive/$datadir/valid.zip -d $repodir/data/"
      ],
      "metadata": {
        "id": "SdnmsFvFLZSC"
      },
      "execution_count": null,
      "outputs": []
    },
    {
      "cell_type": "code",
      "source": [
        "# コードを最新化\n",
        "# コードを更新した場合はここから実行する\n",
        "# ファイルを書き換えている場合、巻き戻るので注意。\n",
        "! cd $repodir && git checkout -f\n",
        "! cd $repodir && git fetch origin $branch && git checkout -B $branch origin/$branch"
      ],
      "metadata": {
        "colab": {
          "base_uri": "https://localhost:8080/"
        },
        "id": "HcYtKGCdG7hx",
        "outputId": "22f215ae-adfe-413d-9ec7-24cf874e6909"
      },
      "execution_count": null,
      "outputs": [
        {
          "output_type": "stream",
          "name": "stdout",
          "text": [
            "Your branch is up to date with 'origin/VQA-competition-ikedam-lstm'.\n",
            "From https://github.com/ikedam/dl_lecture_competition_pub\n",
            " * branch            VQA-competition-ikedam-lstm -> FETCH_HEAD\n",
            "Branch 'VQA-competition-ikedam-lstm' set up to track remote branch 'VQA-competition-ikedam-lstm' from 'origin'.\n",
            "Reset branch 'VQA-competition-ikedam-lstm'\n",
            "Your branch is up to date with 'origin/VQA-competition-ikedam-lstm'.\n"
          ]
        }
      ]
    },
    {
      "cell_type": "code",
      "source": [
        "# 処理を無理やり短時間で終わらせるためのハック\n",
        "# 訓練データ・検証データを一部だけしか使わない。(1000件で1エポック30秒強くらいになる)\n",
        "# 5エポックだけ学習する。\n",
        "# 動作確認時にアンコメントして使う。当たり前だけれど最終的な動作としてはここを動かすと全く意味がないので注意。\n",
        "# ! cd $repodir && git diff\n",
        "# ! sed -i -e 's/len(self.df)/1000/' -e 's/num_epoch = 20/num_epoch = 5/' $repodir/main.py\n",
        "# ! cd $repodir && git diff"
      ],
      "metadata": {
        "id": "NCpxjNmwHMFY"
      },
      "execution_count": null,
      "outputs": []
    },
    {
      "cell_type": "code",
      "source": [
        "# 初期の実装で1エポック10分くらいかかります。10分間なんの反応もなくて不安になりますが、そういうものです。\n",
        "# 動作確認には以下を使う:\n",
        "# !cd $repodir && python3 main.py -l 1000 -e 5\n",
        "# 学習ごとの状態を保存する際は以下を使う:\n",
        "# !cd $repodir && python3 main.py -s \"/content/drive/MyDrive/$outputdir\"\n",
        "# 学習状況をGoogle Driveに保存する\n",
        "!mkdir -p /content/drive/MyDrive/$outputdir; cd $repodir && python3 main.py -e 8 2>&1 | tee \"/content/drive/MyDrive/$outputdir/training.log\""
      ],
      "metadata": {
        "colab": {
          "base_uri": "https://localhost:8080/"
        },
        "id": "NJSZ-4PPMstl",
        "outputId": "d12e2cae-89ee-48bb-aef0-16fe32a39bf2"
      },
      "execution_count": null,
      "outputs": [
        {
          "output_type": "stream",
          "name": "stdout",
          "text": [
            "2024-07-07 09:36:48,503 INFO: running on cuda\n",
            "2024-07-07 09:36:48,503 INFO: cpu_count 2\n",
            "2024-07-07 09:36:52,378 INFO: Train info: datasize=19,873, vocab size=3,904/3,900, max_question_len=81\n",
            "2024-07-07 09:36:52,378 INFO: Test info: datasize=4,969, vocab size=1,986/1,982, max_question_len=66\n",
            "2024-07-07 09:36:53,138 INFO: start training from 1/8...\n",
            "2024-07-07 09:44:28,081 INFO: 【1/8】 train time: 345.57 [s] loss: 6.2866 acc: 0.4667 simple acc: 0.3741 eval time: 109.37 [s] loss: 5.7937 acc: 0.4750 simple acc: 0.3881\n",
            "2024-07-07 09:51:59,170 INFO: 【2/8】 train time: 342.54 [s] loss: 5.2604 acc: 0.4711 simple acc: 0.3778 eval time: 108.55 [s] loss: 5.9385 acc: 0.4753 simple acc: 0.3879\n",
            "2024-07-07 09:59:34,800 INFO: 【3/8】 train time: 345.81 [s] loss: 4.9463 acc: 0.4712 simple acc: 0.3782 eval time: 109.81 [s] loss: 5.8718 acc: 0.4769 simple acc: 0.3901\n",
            "2024-07-07 10:07:06,794 INFO: 【4/8】 train time: 341.91 [s] loss: 4.6677 acc: 0.4781 simple acc: 0.3858 eval time: 110.08 [s] loss: 6.0774 acc: 0.4873 simple acc: 0.3982\n",
            "2024-07-07 10:14:40,422 INFO: 【5/8】 train time: 344.72 [s] loss: 4.4086 acc: 0.4879 simple acc: 0.3960 eval time: 108.91 [s] loss: 6.0550 acc: 0.4871 simple acc: 0.4000\n",
            "2024-07-07 10:22:13,291 INFO: 【6/8】 train time: 342.69 [s] loss: 4.2197 acc: 0.4900 simple acc: 0.3980 eval time: 110.18 [s] loss: 5.8724 acc: 0.4939 simple acc: 0.4073\n",
            "2024-07-07 10:29:48,439 INFO: 【7/8】 train time: 344.25 [s] loss: 4.0665 acc: 0.4910 simple acc: 0.4008 eval time: 110.90 [s] loss: 6.2084 acc: 0.4945 simple acc: 0.4054\n",
            "2024-07-07 10:37:22,741 INFO: 【8/8】 train time: 343.85 [s] loss: 3.9160 acc: 0.4939 simple acc: 0.4044 eval time: 110.45 [s] loss: 6.2087 acc: 0.5000 simple acc: 0.4144\n",
            "2024-07-07 10:37:22,742 INFO: evaluating...\n",
            "2024-07-07 10:39:32,375 INFO: evaluation done.\n"
          ]
        }
      ]
    },
    {
      "cell_type": "code",
      "source": [
        "# 提出用ファイルの保存\n",
        "# 実行環境のライブラリー、実行に使用したコードのバージョンなども記録する。\n",
        "!mkdir -p /content/drive/MyDrive/$outputdir\n",
        "!pip freeze > /content/drive/MyDrive/$outputdir/requirements.txt\n",
        "!cd $repodir && git log -1 > /content/drive/MyDrive/$outputdir/version.txt\n",
        "!cp $repodir/model.pth /content/drive/MyDrive/$outputdir\n",
        "!cp $repodir/submission.npy /content/drive/MyDrive/$outputdir"
      ],
      "metadata": {
        "id": "U-qi69rKIRWM"
      },
      "execution_count": null,
      "outputs": []
    },
    {
      "cell_type": "code",
      "source": [
        "# 実行が完了したらランタイムを自動で削除する。\n",
        "# https://x.com/GoogleColab/status/1569389018311426051\n",
        "# 実行させっぱなしにして放置する場合はこのコードをアンコメントすること。\n",
        "from google.colab import runtime\n",
        "runtime.unassign()"
      ],
      "metadata": {
        "id": "dckQ6YpjlfNW"
      },
      "execution_count": null,
      "outputs": []
    }
  ]
}
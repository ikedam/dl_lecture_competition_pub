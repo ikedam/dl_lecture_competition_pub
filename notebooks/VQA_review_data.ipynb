{
  "nbformat": 4,
  "nbformat_minor": 0,
  "metadata": {
    "colab": {
      "provenance": []
    },
    "kernelspec": {
      "name": "python3",
      "display_name": "Python 3"
    },
    "language_info": {
      "name": "python"
    }
  },
  "cells": [
    {
      "cell_type": "code",
      "execution_count": 1,
      "metadata": {
        "colab": {
          "base_uri": "https://localhost:8080/"
        },
        "id": "wRR1RHsP3geT",
        "outputId": "df05dff2-f4d8-4824-a923-0c2f207ef7d1"
      },
      "outputs": [
        {
          "output_type": "stream",
          "name": "stdout",
          "text": [
            "Mounted at /content/drive\n"
          ]
        }
      ],
      "source": [
        "from google.colab import drive\n",
        "drive.mount(\"/content/drive\")"
      ]
    },
    {
      "cell_type": "code",
      "source": [
        "datadir = \"VQA\""
      ],
      "metadata": {
        "id": "91jk0IMA6AAM"
      },
      "execution_count": 2,
      "outputs": []
    },
    {
      "cell_type": "code",
      "source": [
        "! mkdir -p data\n",
        "! [ -f data/train.json ] || cp /content/drive/MyDrive/$datadir/train.json data/\n",
        "! [ -d data/train ] || unzip -q /content/drive/MyDrive/$datadir/train.zip -d data/"
      ],
      "metadata": {
        "id": "-9NYFt-y3qzZ"
      },
      "execution_count": 5,
      "outputs": []
    },
    {
      "cell_type": "code",
      "source": [
        "import json\n",
        "import os.path\n",
        "import random\n",
        "\n",
        "import pandas\n",
        "from torchvision import transforms\n",
        "from PIL import Image\n",
        "from matplotlib import pyplot as plt\n",
        "\n",
        "\n",
        "transform = transforms.Compose([\n",
        "    transforms.Resize((224, 224)),\n",
        "])\n",
        "image_dir = \"./data/train\"\n",
        "df_path = \"./data/train.json\"\n",
        "df = pandas.read_json(df_path)  # 画像ファイルのパス，question, answerを持つDataFrame"
      ],
      "metadata": {
        "id": "O0meWav35pql"
      },
      "execution_count": 10,
      "outputs": []
    },
    {
      "cell_type": "code",
      "source": [
        "idx = random.randrange(len(df))\n",
        "\n",
        "question = df[\"question\"][idx]\n",
        "answers = df[\"answers\"][idx]\n",
        "print(question)\n",
        "for answer in answers:\n",
        "    print(f'{answer[\"answer\"]}({answer[\"answer_confidence\"]})')\n",
        "\n",
        "image = Image.open(os.path.join(image_dir, df['image'][idx]))\n",
        "plt.imshow(transform(image))"
      ],
      "metadata": {
        "id": "xD2nYvvl-Ut_"
      },
      "execution_count": null,
      "outputs": []
    }
  ]
}